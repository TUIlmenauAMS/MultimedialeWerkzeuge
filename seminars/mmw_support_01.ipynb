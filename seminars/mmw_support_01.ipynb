{
  "nbformat": 4,
  "nbformat_minor": 0,
  "metadata": {
    "colab": {
      "name": "mmw_support_01.ipynb",
      "provenance": [],
      "collapsed_sections": []
    },
    "kernelspec": {
      "name": "python3",
      "display_name": "Python 3"
    },
    "language_info": {
      "name": "python"
    }
  },
  "cells": [
    {
      "cell_type": "markdown",
      "source": [
        "<img src=\"https://github.com/TUIlmenauAMS/MultimedialeWerkzeuge/blob/main/seminars/images/mmw_logo.png?25&raw=1\" alt=\"vc_logo\" width=\"400\">"
      ],
      "metadata": {
        "id": "gM6KS5LL-rOE"
      }
    },
    {
      "cell_type": "markdown",
      "source": [
        "# Webpage Basics: HTML + CSS + JavaScript\n",
        "## Support Material for Seminar 01"
      ],
      "metadata": {
        "id": "FOo_DZRV--99"
      }
    },
    {
      "cell_type": "code",
      "source": [
        "%%html\n",
        "<!DOCTYPE html>\n",
        "<html>\n",
        "<body>\n",
        "<h1>The button element</h1>\n",
        "<p>Click to display the time.</p>\n",
        "<button>What is the time?</button>\n",
        "<p id=\"demo\">Nothing happens...</p>\n",
        "</body>\n",
        "</html>"
      ],
      "metadata": {
        "colab": {
          "base_uri": "https://localhost:8080/",
          "height": 151
        },
        "id": "0K_MiQd8-bnc",
        "outputId": "e12b58fc-a061-4b3a-fcec-eb1284eb3a03"
      },
      "execution_count": 15,
      "outputs": [
        {
          "output_type": "display_data",
          "data": {
            "text/plain": [
              "<IPython.core.display.HTML object>"
            ],
            "text/html": [
              "<!DOCTYPE html>\n",
              "<body>\n",
              "<h1>The button element</h1>\n",
              "<p>Click to display the time.</p>\n",
              "<button>What is the time?</button>\n",
              "<p id=\"demo\">Nothing happens...</p>\n",
              "</body>\n",
              "</html>"
            ]
          },
          "metadata": {}
        }
      ]
    },
    {
      "cell_type": "code",
      "source": [
        "%%html\n",
        "<!DOCTYPE html>\n",
        "<html>\n",
        "<head>\n",
        "<style>\n",
        ".button {\n",
        "  border: none;\n",
        "  color: white;\n",
        "  padding: 16px 32px;\n",
        "  text-align: center;\n",
        "  text-decoration: none;\n",
        "  display: inline-block;\n",
        "  font-size: 16px;\n",
        "  margin: 4px 2px;\n",
        "  transition-duration: 0.4s;\n",
        "  cursor: pointer;\n",
        "}\n",
        "\n",
        ".button1 {\n",
        "  background-color: white;\n",
        "  color: black;\n",
        "  border: 2px solid #4CAF50;\n",
        "}\n",
        "\n",
        ".button1:hover {\n",
        "  background-color: #4CAF50;\n",
        "  color: white;\n",
        "}\n",
        "</style>\n",
        "</head>\n",
        "<body>\n",
        "<h1>The button element - Styled with CSS</h1>\n",
        "\n",
        "<p>Use the :hover selector to change the style of the button when you move the mouse over it.</p>\n",
        "<p><strong>Tip:</strong> Use the transition-duration property to determine the speed of the \"hover\" effect:</p>\n",
        "\n",
        "<p>Click to display the time.</p>\n",
        "\n",
        "<button class=\"button button1\">What is the time?</button>\n",
        "\n",
        "<p id=\"demo\"> No time here now...</p>\n",
        "</body>\n",
        "</html>"
      ],
      "metadata": {
        "colab": {
          "base_uri": "https://localhost:8080/",
          "height": 238
        },
        "id": "L3WFxV1BBVjE",
        "outputId": "bb27c2a7-8172-4213-9fe7-75e1b8bd1037"
      },
      "execution_count": 12,
      "outputs": [
        {
          "output_type": "display_data",
          "data": {
            "text/plain": [
              "<IPython.core.display.HTML object>"
            ],
            "text/html": [
              "<!DOCTYPE html>\n",
              "<html>\n",
              "<head>\n",
              "<style>\n",
              ".button {\n",
              "  border: none;\n",
              "  color: white;\n",
              "  padding: 16px 32px;\n",
              "  text-align: center;\n",
              "  text-decoration: none;\n",
              "  display: inline-block;\n",
              "  font-size: 16px;\n",
              "  margin: 4px 2px;\n",
              "  transition-duration: 0.4s;\n",
              "  cursor: pointer;\n",
              "}\n",
              "\n",
              ".button1 {\n",
              "  background-color: white;\n",
              "  color: black;\n",
              "  border: 2px solid #4CAF50;\n",
              "}\n",
              "\n",
              ".button1:hover {\n",
              "  background-color: #4CAF50;\n",
              "  color: white;\n",
              "}\n",
              "</style>\n",
              "</head>\n",
              "<body>\n",
              "<h1>The button element - Styled with CSS</h1>\n",
              "\n",
              "<p>Use the :hover selector to change the style of the button when you move the mouse over it.</p>\n",
              "<p><strong>Tip:</strong> Use the transition-duration property to determine the speed of the \"hover\" effect:</p>\n",
              "\n",
              "<p>Click to display the time.</p>\n",
              "\n",
              "<button class=\"button button1\">What is the time?</button>\n",
              "\n",
              "<p id=\"demo\"> No time here now...</p>\n",
              "</body>\n",
              "</html>"
            ]
          },
          "metadata": {}
        }
      ]
    },
    {
      "cell_type": "code",
      "source": [
        "%%html\n",
        "<!DOCTYPE html>\n",
        "<html>\n",
        "<head>\n",
        "<style>\n",
        ".button {\n",
        "  border: none;\n",
        "  color: white;\n",
        "  padding: 16px 32px;\n",
        "  text-align: center;\n",
        "  text-decoration: none;\n",
        "  display: inline-block;\n",
        "  font-size: 16px;\n",
        "  margin: 4px 2px;\n",
        "  transition-duration: 0.4s;\n",
        "  cursor: pointer;\n",
        "}\n",
        "\n",
        ".button1 {\n",
        "  background-color: white;\n",
        "  color: black;\n",
        "  border: 2px solid #4CAF50;\n",
        "}\n",
        "\n",
        ".button1:hover {\n",
        "  background-color: #4CAF50;\n",
        "  color: white;\n",
        "}\n",
        "</style>\n",
        "</head>\n",
        "<body>\n",
        "<h1>The button element - Styled with CSS</h1>\n",
        "\n",
        "<p>Use the :hover selector to change the style of the button when you move the mouse over it.</p>\n",
        "<p><strong>Tip:</strong> Use the transition-duration property to determine the speed of the \"hover\" effect:</p>\n",
        "\n",
        "<p>Click to display the time.</p>\n",
        "\n",
        "<button class=\"button button1\" onclick=\"myFunction()\">What is the time?</button>\n",
        "\n",
        "<p id=\"demo\"> No time here now...</p>\n",
        "\n",
        "<script>\n",
        "function myFunction() {\n",
        "  document.getElementById(\"demo\").innerHTML =  Date();\n",
        "}\n",
        "</script>\n",
        "</body>\n",
        "</html>"
      ],
      "metadata": {
        "colab": {
          "base_uri": "https://localhost:8080/",
          "height": 238
        },
        "id": "SB4X4bnmYb1a",
        "outputId": "fb26c9f7-3f45-47dc-c57b-4be1413b5782"
      },
      "execution_count": 17,
      "outputs": [
        {
          "output_type": "display_data",
          "data": {
            "text/plain": [
              "<IPython.core.display.HTML object>"
            ],
            "text/html": [
              "<!DOCTYPE html>\n",
              "<html>\n",
              "<head>\n",
              "<style>\n",
              ".button {\n",
              "  border: none;\n",
              "  color: white;\n",
              "  padding: 16px 32px;\n",
              "  text-align: center;\n",
              "  text-decoration: none;\n",
              "  display: inline-block;\n",
              "  font-size: 16px;\n",
              "  margin: 4px 2px;\n",
              "  transition-duration: 0.4s;\n",
              "  cursor: pointer;\n",
              "}\n",
              "\n",
              ".button1 {\n",
              "  background-color: white;\n",
              "  color: black;\n",
              "  border: 2px solid #4CAF50;\n",
              "}\n",
              "\n",
              ".button1:hover {\n",
              "  background-color: #4CAF50;\n",
              "  color: white;\n",
              "}\n",
              "</style>\n",
              "</head>\n",
              "<body>\n",
              "<h1>The button element - Styled with CSS</h1>\n",
              "\n",
              "<p>Use the :hover selector to change the style of the button when you move the mouse over it.</p>\n",
              "<p><strong>Tip:</strong> Use the transition-duration property to determine the speed of the \"hover\" effect:</p>\n",
              "\n",
              "<p>Click to display the time.</p>\n",
              "\n",
              "<button class=\"button button1\" onclick=\"myFunction()\">What is the time?</button>\n",
              "\n",
              "<p id=\"demo\"> No time here now...</p>\n",
              "\n",
              "<script>\n",
              "function myFunction() {\n",
              "  document.getElementById(\"demo\").innerHTML =  Date();\n",
              "}\n",
              "</script>\n",
              "</body>\n",
              "</html>"
            ]
          },
          "metadata": {}
        }
      ]
    },
    {
      "cell_type": "code",
      "source": [
        ""
      ],
      "metadata": {
        "id": "CKjsCjeWDYYy"
      },
      "execution_count": null,
      "outputs": []
    }
  ]
}